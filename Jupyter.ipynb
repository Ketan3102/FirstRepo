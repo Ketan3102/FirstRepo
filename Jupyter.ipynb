{
    "cells": [
        {
            "cell_type": "markdown",
            "metadata": {},
            "source": "# Imports pandas"
        },
        {
            "cell_type": "code",
            "execution_count": 9,
            "metadata": {},
            "outputs": [
                {
                    "data": {
                        "text/html": "<div>\n<style scoped>\n    .dataframe tbody tr th:only-of-type {\n        vertical-align: middle;\n    }\n\n    .dataframe tbody tr th {\n        vertical-align: top;\n    }\n\n    .dataframe thead th {\n        text-align: right;\n    }\n</style>\n<table border=\"1\" class=\"dataframe\">\n  <thead>\n    <tr style=\"text-align: right;\">\n      <th></th>\n      <th>Customer ID</th>\n      <th>Customer Name</th>\n      <th>Segment</th>\n      <th>Age</th>\n      <th>Country</th>\n      <th>City</th>\n      <th>State</th>\n      <th>Postal Code</th>\n      <th>Region</th>\n    </tr>\n  </thead>\n  <tbody>\n    <tr>\n      <th>0</th>\n      <td>CG-12520</td>\n      <td>Claire Gute</td>\n      <td>Consumer</td>\n      <td>67</td>\n      <td>United States</td>\n      <td>Henderson</td>\n      <td>Kentucky</td>\n      <td>42420</td>\n      <td>South</td>\n    </tr>\n    <tr>\n      <th>1</th>\n      <td>DV-13045</td>\n      <td>Darrin Van Huff</td>\n      <td>Corporate</td>\n      <td>31</td>\n      <td>United States</td>\n      <td>Los Angeles</td>\n      <td>California</td>\n      <td>90036</td>\n      <td>West</td>\n    </tr>\n    <tr>\n      <th>2</th>\n      <td>SO-20335</td>\n      <td>Sean O'Donnell</td>\n      <td>Consumer</td>\n      <td>65</td>\n      <td>United States</td>\n      <td>Fort Lauderdale</td>\n      <td>Florida</td>\n      <td>33311</td>\n      <td>South</td>\n    </tr>\n    <tr>\n      <th>3</th>\n      <td>BH-11710</td>\n      <td>Brosina Hoffman</td>\n      <td>Consumer</td>\n      <td>20</td>\n      <td>United States</td>\n      <td>Los Angeles</td>\n      <td>California</td>\n      <td>90032</td>\n      <td>West</td>\n    </tr>\n    <tr>\n      <th>4</th>\n      <td>AA-10480</td>\n      <td>Andrew Allen</td>\n      <td>Consumer</td>\n      <td>50</td>\n      <td>United States</td>\n      <td>Concord</td>\n      <td>North Carolina</td>\n      <td>28027</td>\n      <td>South</td>\n    </tr>\n  </tbody>\n</table>\n</div>",
                        "text/plain": "  Customer ID    Customer Name    Segment  Age        Country  \\\n0    CG-12520      Claire Gute   Consumer   67  United States   \n1    DV-13045  Darrin Van Huff  Corporate   31  United States   \n2    SO-20335   Sean O'Donnell   Consumer   65  United States   \n3    BH-11710  Brosina Hoffman   Consumer   20  United States   \n4    AA-10480     Andrew Allen   Consumer   50  United States   \n\n              City           State  Postal Code Region  \n0        Henderson        Kentucky        42420  South  \n1      Los Angeles      California        90036   West  \n2  Fort Lauderdale         Florida        33311  South  \n3      Los Angeles      California        90032   West  \n4          Concord  North Carolina        28027  South  "
                    },
                    "execution_count": 9,
                    "metadata": {},
                    "output_type": "execute_result"
                }
            ],
            "source": "# The code was removed by Watson Studio for sharing."
        },
        {
            "cell_type": "code",
            "execution_count": null,
            "metadata": {},
            "outputs": [],
            "source": ""
        }
    ],
    "metadata": {
        "kernelspec": {
            "display_name": "Python 3.9",
            "language": "python",
            "name": "python3"
        },
        "language_info": {
            "codemirror_mode": {
                "name": "ipython",
                "version": 3
            },
            "file_extension": ".py",
            "mimetype": "text/x-python",
            "name": "python",
            "nbconvert_exporter": "python",
            "pygments_lexer": "ipython3",
            "version": "3.9.12"
        }
    },
    "nbformat": 4,
    "nbformat_minor": 1
}